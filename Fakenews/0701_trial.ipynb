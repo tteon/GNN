{
 "cells": [
  {
   "cell_type": "code",
   "execution_count": null,
   "id": "8076dc24",
   "metadata": {},
   "outputs": [],
   "source": []
  },
  {
   "cell_type": "code",
   "execution_count": null,
   "id": "64edbe4d",
   "metadata": {},
   "outputs": [],
   "source": []
  },
  {
   "cell_type": "code",
   "execution_count": 1,
   "id": "a73a9b70",
   "metadata": {
    "ExecuteTime": {
     "end_time": "2021-07-01T09:09:52.616901Z",
     "start_time": "2021-07-01T09:09:51.141639Z"
    }
   },
   "outputs": [
    {
     "name": "stderr",
     "output_type": "stream",
     "text": [
      "Using backend: pytorch\n"
     ]
    }
   ],
   "source": [
    "import itertools\n",
    "\n",
    "from sklearn.model_selection import train_test_split\n",
    "import sklearn.metrics\n",
    "\n",
    "import pandas as pd\n",
    "import numpy as np\n",
    "\n",
    "import dgl\n",
    "from dgl.nn import GraphConv\n",
    "\n",
    "import torch\n",
    "import torch.nn as nn\n",
    "import torch.nn.functional as F\n",
    "\n",
    "import time\n",
    "from tqdm import tqdm"
   ]
  },
  {
   "cell_type": "code",
   "execution_count": 2,
   "id": "4a44f49d",
   "metadata": {
    "ExecuteTime": {
     "end_time": "2021-07-01T09:09:52.740729Z",
     "start_time": "2021-07-01T09:09:52.618606Z"
    }
   },
   "outputs": [
    {
     "name": "stdout",
     "output_type": "stream",
     "text": [
      "agency-claim-user.csv\t      final_nodes.csv\t   news-share-user.csv_sample\r\n",
      "agency-claim-user_sample.csv  news_content.csv\t   news-share-user_sample.csv\r\n",
      "agency_content.csv\t      news.csv\t\t   news-share-user_sample.sv\r\n",
      "agency.csv\t\t      news_sample.csv\t   user-reply-user.csv\r\n",
      "agency_sample.csv\t      news-share-user.csv  user-reply-user_sample.csv\r\n"
     ]
    }
   ],
   "source": [
    "!ls dataset2"
   ]
  },
  {
   "cell_type": "code",
   "execution_count": null,
   "id": "b2a0aaab",
   "metadata": {},
   "outputs": [],
   "source": []
  },
  {
   "cell_type": "code",
   "execution_count": 3,
   "id": "1c8bb572",
   "metadata": {
    "ExecuteTime": {
     "end_time": "2021-07-01T09:10:18.465000Z",
     "start_time": "2021-07-01T09:09:52.742614Z"
    }
   },
   "outputs": [],
   "source": [
    "DATAPATH = 'dataset2/'\n",
    "node = pd.read_csv(DATAPATH + 'final_nodes.csv')\n",
    "edge = pd.read_csv(DATAPATH + 'user-reply-user.csv')\n",
    "edge.drop('news_id',axis=1,inplace=True)"
   ]
  },
  {
   "cell_type": "code",
   "execution_count": 4,
   "id": "bab0f82f",
   "metadata": {
    "ExecuteTime": {
     "end_time": "2021-07-01T09:10:19.319234Z",
     "start_time": "2021-07-01T09:10:18.466604Z"
    }
   },
   "outputs": [],
   "source": [
    "node2 = node.copy()\n",
    "edge2 = edge.copy()"
   ]
  },
  {
   "cell_type": "code",
   "execution_count": null,
   "id": "4cc0bd7a",
   "metadata": {},
   "outputs": [],
   "source": []
  },
  {
   "cell_type": "code",
   "execution_count": 5,
   "id": "ff5d2de0",
   "metadata": {
    "ExecuteTime": {
     "end_time": "2021-07-01T09:10:19.353130Z",
     "start_time": "2021-07-01T09:10:19.320739Z"
    }
   },
   "outputs": [
    {
     "data": {
      "text/html": [
       "<div>\n",
       "<style scoped>\n",
       "    .dataframe tbody tr th:only-of-type {\n",
       "        vertical-align: middle;\n",
       "    }\n",
       "\n",
       "    .dataframe tbody tr th {\n",
       "        vertical-align: top;\n",
       "    }\n",
       "\n",
       "    .dataframe thead th {\n",
       "        text-align: right;\n",
       "    }\n",
       "</style>\n",
       "<table border=\"1\" class=\"dataframe\">\n",
       "  <thead>\n",
       "    <tr style=\"text-align: right;\">\n",
       "      <th></th>\n",
       "      <th>target</th>\n",
       "      <th>0</th>\n",
       "      <th>1</th>\n",
       "      <th>2</th>\n",
       "      <th>3</th>\n",
       "      <th>4</th>\n",
       "      <th>5</th>\n",
       "      <th>6</th>\n",
       "      <th>7</th>\n",
       "      <th>8</th>\n",
       "      <th>...</th>\n",
       "      <th>765</th>\n",
       "      <th>766</th>\n",
       "      <th>767</th>\n",
       "      <th>label</th>\n",
       "      <th>type_0</th>\n",
       "      <th>type_1</th>\n",
       "      <th>type_2</th>\n",
       "      <th>type_3</th>\n",
       "      <th>type_4</th>\n",
       "      <th>type_5</th>\n",
       "    </tr>\n",
       "  </thead>\n",
       "  <tbody>\n",
       "    <tr>\n",
       "      <th>0</th>\n",
       "      <td>1255484783884369921</td>\n",
       "      <td>0.050507</td>\n",
       "      <td>0.084058</td>\n",
       "      <td>-0.045004</td>\n",
       "      <td>0.012769</td>\n",
       "      <td>-0.31719</td>\n",
       "      <td>0.187268</td>\n",
       "      <td>0.13051</td>\n",
       "      <td>-0.259223</td>\n",
       "      <td>-0.160112</td>\n",
       "      <td>...</td>\n",
       "      <td>0.423616</td>\n",
       "      <td>0.589071</td>\n",
       "      <td>0.10133</td>\n",
       "      <td>0</td>\n",
       "      <td>0</td>\n",
       "      <td>0</td>\n",
       "      <td>0</td>\n",
       "      <td>1</td>\n",
       "      <td>0</td>\n",
       "      <td>0</td>\n",
       "    </tr>\n",
       "    <tr>\n",
       "      <th>1</th>\n",
       "      <td>1249534887691984897</td>\n",
       "      <td>0.050507</td>\n",
       "      <td>0.084058</td>\n",
       "      <td>-0.045004</td>\n",
       "      <td>0.012769</td>\n",
       "      <td>-0.31719</td>\n",
       "      <td>0.187268</td>\n",
       "      <td>0.13051</td>\n",
       "      <td>-0.259223</td>\n",
       "      <td>-0.160112</td>\n",
       "      <td>...</td>\n",
       "      <td>0.423616</td>\n",
       "      <td>0.589071</td>\n",
       "      <td>0.10133</td>\n",
       "      <td>0</td>\n",
       "      <td>0</td>\n",
       "      <td>0</td>\n",
       "      <td>0</td>\n",
       "      <td>1</td>\n",
       "      <td>0</td>\n",
       "      <td>0</td>\n",
       "    </tr>\n",
       "    <tr>\n",
       "      <th>2</th>\n",
       "      <td>1250174164268396544</td>\n",
       "      <td>0.050507</td>\n",
       "      <td>0.084058</td>\n",
       "      <td>-0.045004</td>\n",
       "      <td>0.012769</td>\n",
       "      <td>-0.31719</td>\n",
       "      <td>0.187268</td>\n",
       "      <td>0.13051</td>\n",
       "      <td>-0.259223</td>\n",
       "      <td>-0.160112</td>\n",
       "      <td>...</td>\n",
       "      <td>0.423616</td>\n",
       "      <td>0.589071</td>\n",
       "      <td>0.10133</td>\n",
       "      <td>0</td>\n",
       "      <td>0</td>\n",
       "      <td>0</td>\n",
       "      <td>0</td>\n",
       "      <td>1</td>\n",
       "      <td>0</td>\n",
       "      <td>0</td>\n",
       "    </tr>\n",
       "    <tr>\n",
       "      <th>3</th>\n",
       "      <td>1247680031423254529</td>\n",
       "      <td>0.050507</td>\n",
       "      <td>0.084058</td>\n",
       "      <td>-0.045004</td>\n",
       "      <td>0.012769</td>\n",
       "      <td>-0.31719</td>\n",
       "      <td>0.187268</td>\n",
       "      <td>0.13051</td>\n",
       "      <td>-0.259223</td>\n",
       "      <td>-0.160112</td>\n",
       "      <td>...</td>\n",
       "      <td>0.423616</td>\n",
       "      <td>0.589071</td>\n",
       "      <td>0.10133</td>\n",
       "      <td>0</td>\n",
       "      <td>0</td>\n",
       "      <td>0</td>\n",
       "      <td>0</td>\n",
       "      <td>1</td>\n",
       "      <td>0</td>\n",
       "      <td>0</td>\n",
       "    </tr>\n",
       "    <tr>\n",
       "      <th>4</th>\n",
       "      <td>1247618373883740162</td>\n",
       "      <td>0.050507</td>\n",
       "      <td>0.084058</td>\n",
       "      <td>-0.045004</td>\n",
       "      <td>0.012769</td>\n",
       "      <td>-0.31719</td>\n",
       "      <td>0.187268</td>\n",
       "      <td>0.13051</td>\n",
       "      <td>-0.259223</td>\n",
       "      <td>-0.160112</td>\n",
       "      <td>...</td>\n",
       "      <td>0.423616</td>\n",
       "      <td>0.589071</td>\n",
       "      <td>0.10133</td>\n",
       "      <td>0</td>\n",
       "      <td>0</td>\n",
       "      <td>0</td>\n",
       "      <td>0</td>\n",
       "      <td>1</td>\n",
       "      <td>0</td>\n",
       "      <td>0</td>\n",
       "    </tr>\n",
       "  </tbody>\n",
       "</table>\n",
       "<p>5 rows × 776 columns</p>\n",
       "</div>"
      ],
      "text/plain": [
       "                target         0         1         2         3        4  \\\n",
       "0  1255484783884369921  0.050507  0.084058 -0.045004  0.012769 -0.31719   \n",
       "1  1249534887691984897  0.050507  0.084058 -0.045004  0.012769 -0.31719   \n",
       "2  1250174164268396544  0.050507  0.084058 -0.045004  0.012769 -0.31719   \n",
       "3  1247680031423254529  0.050507  0.084058 -0.045004  0.012769 -0.31719   \n",
       "4  1247618373883740162  0.050507  0.084058 -0.045004  0.012769 -0.31719   \n",
       "\n",
       "          5        6         7         8  ...       765       766      767  \\\n",
       "0  0.187268  0.13051 -0.259223 -0.160112  ...  0.423616  0.589071  0.10133   \n",
       "1  0.187268  0.13051 -0.259223 -0.160112  ...  0.423616  0.589071  0.10133   \n",
       "2  0.187268  0.13051 -0.259223 -0.160112  ...  0.423616  0.589071  0.10133   \n",
       "3  0.187268  0.13051 -0.259223 -0.160112  ...  0.423616  0.589071  0.10133   \n",
       "4  0.187268  0.13051 -0.259223 -0.160112  ...  0.423616  0.589071  0.10133   \n",
       "\n",
       "   label  type_0  type_1  type_2  type_3  type_4  type_5  \n",
       "0      0       0       0       0       1       0       0  \n",
       "1      0       0       0       0       1       0       0  \n",
       "2      0       0       0       0       1       0       0  \n",
       "3      0       0       0       0       1       0       0  \n",
       "4      0       0       0       0       1       0       0  \n",
       "\n",
       "[5 rows x 776 columns]"
      ]
     },
     "metadata": {},
     "output_type": "display_data"
    },
    {
     "data": {
      "text/html": [
       "<div>\n",
       "<style scoped>\n",
       "    .dataframe tbody tr th:only-of-type {\n",
       "        vertical-align: middle;\n",
       "    }\n",
       "\n",
       "    .dataframe tbody tr th {\n",
       "        vertical-align: top;\n",
       "    }\n",
       "\n",
       "    .dataframe thead th {\n",
       "        text-align: right;\n",
       "    }\n",
       "</style>\n",
       "<table border=\"1\" class=\"dataframe\">\n",
       "  <thead>\n",
       "    <tr style=\"text-align: right;\">\n",
       "      <th></th>\n",
       "      <th>tweet_id</th>\n",
       "      <th>reply_id</th>\n",
       "    </tr>\n",
       "  </thead>\n",
       "  <tbody>\n",
       "    <tr>\n",
       "      <th>0</th>\n",
       "      <td>1255484783884369921</td>\n",
       "      <td>1254913226325872642</td>\n",
       "    </tr>\n",
       "    <tr>\n",
       "      <th>1</th>\n",
       "      <td>1255484783884369921</td>\n",
       "      <td>1254985211265159169</td>\n",
       "    </tr>\n",
       "    <tr>\n",
       "      <th>2</th>\n",
       "      <td>1255484783884369921</td>\n",
       "      <td>1255484999203258370</td>\n",
       "    </tr>\n",
       "    <tr>\n",
       "      <th>3</th>\n",
       "      <td>1249534887691984897</td>\n",
       "      <td>1249535327829712898</td>\n",
       "    </tr>\n",
       "    <tr>\n",
       "      <th>4</th>\n",
       "      <td>1249534887691984897</td>\n",
       "      <td>1249536037489184769</td>\n",
       "    </tr>\n",
       "  </tbody>\n",
       "</table>\n",
       "</div>"
      ],
      "text/plain": [
       "              tweet_id             reply_id\n",
       "0  1255484783884369921  1254913226325872642\n",
       "1  1255484783884369921  1254985211265159169\n",
       "2  1255484783884369921  1255484999203258370\n",
       "3  1249534887691984897  1249535327829712898\n",
       "4  1249534887691984897  1249536037489184769"
      ]
     },
     "metadata": {},
     "output_type": "display_data"
    }
   ],
   "source": [
    "display(node.head(5))\n",
    "display(edge.head(5))"
   ]
  },
  {
   "cell_type": "code",
   "execution_count": null,
   "id": "ba07595f",
   "metadata": {},
   "outputs": [],
   "source": []
  },
  {
   "cell_type": "markdown",
   "id": "5966c7bc",
   "metadata": {},
   "source": [
    "## Node schema"
   ]
  },
  {
   "cell_type": "code",
   "execution_count": 6,
   "id": "b9ec55f2",
   "metadata": {
    "ExecuteTime": {
     "end_time": "2021-07-01T09:10:19.362637Z",
     "start_time": "2021-07-01T09:10:19.354662Z"
    }
   },
   "outputs": [],
   "source": [
    "nids = node2.pop('target')\n",
    "node_labels = node2.pop('label')\n",
    "node_features = node2"
   ]
  },
  {
   "cell_type": "markdown",
   "id": "e89a6810",
   "metadata": {},
   "source": [
    "### reset index ( library should start index 0)"
   ]
  },
  {
   "cell_type": "code",
   "execution_count": null,
   "id": "0bd3fb6c",
   "metadata": {},
   "outputs": [],
   "source": []
  },
  {
   "cell_type": "code",
   "execution_count": 10,
   "id": "e45a18b1",
   "metadata": {
    "ExecuteTime": {
     "end_time": "2021-07-01T09:10:33.098079Z",
     "start_time": "2021-07-01T09:10:33.041005Z"
    }
   },
   "outputs": [],
   "source": [
    "nids_df = nids.reset_index()\n",
    "#nids_df.drop('target', axis=1, inplace=True)\n",
    "func = dict(zip(nids_df.target, nids_df.index))"
   ]
  },
  {
   "cell_type": "code",
   "execution_count": null,
   "id": "71945351",
   "metadata": {},
   "outputs": [],
   "source": []
  },
  {
   "cell_type": "markdown",
   "id": "66460b0c",
   "metadata": {},
   "source": [
    "### Same function at reset index "
   ]
  },
  {
   "cell_type": "code",
   "execution_count": 11,
   "id": "e09791c2",
   "metadata": {
    "ExecuteTime": {
     "end_time": "2021-07-01T09:10:36.129981Z",
     "start_time": "2021-07-01T09:10:35.999017Z"
    }
   },
   "outputs": [],
   "source": [
    "edge['tweet_id'] = edge['tweet_id'].apply(lambda x : func[x])\n",
    "edge['reply_id'] = edge['reply_id'].apply(lambda x : func[x])"
   ]
  },
  {
   "cell_type": "code",
   "execution_count": null,
   "id": "0b6ca97c",
   "metadata": {
    "ExecuteTime": {
     "end_time": "2021-07-01T04:07:35.114737Z",
     "start_time": "2021-07-01T04:07:35.110622Z"
    }
   },
   "outputs": [],
   "source": []
  },
  {
   "cell_type": "code",
   "execution_count": null,
   "id": "c36a67d7",
   "metadata": {},
   "outputs": [],
   "source": []
  },
  {
   "cell_type": "code",
   "execution_count": 12,
   "id": "cfb06472",
   "metadata": {
    "ExecuteTime": {
     "end_time": "2021-07-01T09:10:37.938669Z",
     "start_time": "2021-07-01T09:10:36.132008Z"
    }
   },
   "outputs": [],
   "source": [
    "graph = dgl.graph((edge.tweet_id, edge.reply_id))\n",
    "node_features = torch.FloatTensor(node_features.values)\n",
    "node_labels = torch.LongTensor(node_labels)"
   ]
  },
  {
   "cell_type": "code",
   "execution_count": null,
   "id": "025d4c7f",
   "metadata": {},
   "outputs": [],
   "source": []
  },
  {
   "cell_type": "code",
   "execution_count": 13,
   "id": "9c197afa",
   "metadata": {
    "ExecuteTime": {
     "end_time": "2021-07-01T09:10:37.947065Z",
     "start_time": "2021-07-01T09:10:37.940807Z"
    }
   },
   "outputs": [
    {
     "name": "stdout",
     "output_type": "stream",
     "text": [
      "Graph\n",
      "Graph(num_nodes=143478, num_edges=122593,\n",
      "      ndata_schemes={}\n",
      "      edata_schemes={})\n",
      "Shape of node features: torch.Size([143478, 774])\n",
      "Shape of node labels: torch.Size([143478])\n",
      "Number of classes: 2\n"
     ]
    }
   ],
   "source": [
    "print('Graph')\n",
    "print(graph)\n",
    "print('Shape of node features:', node_features.shape)\n",
    "print('Shape of node labels:', node_labels.shape)\n",
    "\n",
    "num_features = node_features.shape[1]\n",
    "num_classes = (node_labels.max() + 1).item()\n",
    "print('Number of classes:', num_classes)"
   ]
  },
  {
   "cell_type": "code",
   "execution_count": null,
   "id": "c910b076",
   "metadata": {},
   "outputs": [],
   "source": []
  },
  {
   "cell_type": "markdown",
   "id": "eed2f67e",
   "metadata": {},
   "source": [
    "### feature & label"
   ]
  },
  {
   "cell_type": "code",
   "execution_count": 14,
   "id": "876b1449",
   "metadata": {
    "ExecuteTime": {
     "end_time": "2021-07-01T09:10:37.952098Z",
     "start_time": "2021-07-01T09:10:37.949043Z"
    }
   },
   "outputs": [],
   "source": [
    "graph.ndata['feat'] = node_features\n",
    "graph.ndata['label'] = node_labels"
   ]
  },
  {
   "cell_type": "markdown",
   "id": "e5992845",
   "metadata": {},
   "source": [
    "### train test split"
   ]
  },
  {
   "cell_type": "code",
   "execution_count": 15,
   "id": "4f46e3a9",
   "metadata": {
    "ExecuteTime": {
     "end_time": "2021-07-01T09:10:37.958820Z",
     "start_time": "2021-07-01T09:10:37.953535Z"
    }
   },
   "outputs": [],
   "source": [
    "n_nodes = nids.shape[0]\n",
    "train_mask = torch.zeros(n_nodes, dtype=torch.bool)\n",
    "valid_mask = torch.zeros(n_nodes, dtype=torch.bool)\n",
    "test_mask = torch.zeros(n_nodes, dtype=torch.bool)"
   ]
  },
  {
   "cell_type": "code",
   "execution_count": null,
   "id": "9aa6baf1",
   "metadata": {},
   "outputs": [],
   "source": []
  },
  {
   "cell_type": "code",
   "execution_count": 16,
   "id": "f67fb9bf",
   "metadata": {
    "ExecuteTime": {
     "end_time": "2021-07-01T09:10:37.962895Z",
     "start_time": "2021-07-01T09:10:37.960375Z"
    }
   },
   "outputs": [],
   "source": [
    "n_train = int(n_nodes * 0.6)\n",
    "n_val = int(n_nodes * 0.2)"
   ]
  },
  {
   "cell_type": "code",
   "execution_count": 17,
   "id": "11412724",
   "metadata": {
    "ExecuteTime": {
     "end_time": "2021-07-01T09:10:37.968606Z",
     "start_time": "2021-07-01T09:10:37.964268Z"
    }
   },
   "outputs": [],
   "source": [
    "train_mask[:n_train] = True\n",
    "valid_mask[n_train:n_train + n_val] = True\n",
    "test_mask[n_train + n_val:] = True"
   ]
  },
  {
   "cell_type": "code",
   "execution_count": null,
   "id": "92628eeb",
   "metadata": {},
   "outputs": [],
   "source": []
  },
  {
   "cell_type": "code",
   "execution_count": 18,
   "id": "605c20e5",
   "metadata": {
    "ExecuteTime": {
     "end_time": "2021-07-01T09:10:37.974402Z",
     "start_time": "2021-07-01T09:10:37.970732Z"
    }
   },
   "outputs": [],
   "source": [
    "graph.ndata['train_mask'] = train_mask\n",
    "graph.ndata['valid_mask'] = valid_mask\n",
    "graph.ndata['test_mask'] = test_mask"
   ]
  },
  {
   "cell_type": "code",
   "execution_count": null,
   "id": "6e05133d",
   "metadata": {
    "ExecuteTime": {
     "end_time": "2021-07-01T04:25:04.103585Z",
     "start_time": "2021-07-01T04:25:04.094860Z"
    }
   },
   "outputs": [],
   "source": []
  },
  {
   "cell_type": "code",
   "execution_count": 19,
   "id": "4af085dc",
   "metadata": {
    "ExecuteTime": {
     "end_time": "2021-07-01T09:10:37.982702Z",
     "start_time": "2021-07-01T09:10:37.976616Z"
    }
   },
   "outputs": [
    {
     "name": "stdout",
     "output_type": "stream",
     "text": [
      "----Data statistics------'\n",
      "  #Edges 122593\n",
      "  #Classes 2\n",
      "  #Train samples 86086\n",
      "  #Val samples 28695\n",
      "  #Test samples 28697\n"
     ]
    }
   ],
   "source": [
    "in_feats = node_features.shape[1]\n",
    "n_classes = 2\n",
    "n_edges = graph.number_of_edges()\n",
    "print(\"\"\"----Data statistics------'\n",
    "  #Edges %d\n",
    "  #Classes %d\n",
    "  #Train samples %d\n",
    "  #Val samples %d\n",
    "  #Test samples %d\"\"\" %\n",
    "      (n_edges, n_classes,\n",
    "          train_mask.int().sum().item(),\n",
    "          valid_mask.int().sum().item(),\n",
    "          test_mask.int().sum().item()))"
   ]
  },
  {
   "cell_type": "code",
   "execution_count": null,
   "id": "e391b413",
   "metadata": {},
   "outputs": [],
   "source": []
  },
  {
   "cell_type": "code",
   "execution_count": 20,
   "id": "2ff6d797",
   "metadata": {
    "ExecuteTime": {
     "end_time": "2021-07-01T09:10:37.988797Z",
     "start_time": "2021-07-01T09:10:37.984156Z"
    }
   },
   "outputs": [],
   "source": [
    "class GCNLayer(nn.Module):\n",
    "    def __init__(self, in_feats, out_feats):\n",
    "        super(GCNLayer, self).__init__()\n",
    "        self.linear = nn.Linear(in_feats, out_feats)\n",
    "        \n",
    "    def forward(self, g, feature):\n",
    "        with g.local_scope():\n",
    "            gcn_msg = fn.copy_src(src='h', out='m')\n",
    "            gcn_reduce = fn.sum(msg='m', out='h')\n",
    "            g.ndata['h'] = feature\n",
    "            g.update_all(gcn_msg, gcn_reduce)\n",
    "            h = g.ndata['h']\n",
    "            return self.linear(h)"
   ]
  },
  {
   "cell_type": "code",
   "execution_count": null,
   "id": "ec1ded37",
   "metadata": {},
   "outputs": [],
   "source": []
  },
  {
   "cell_type": "code",
   "execution_count": 21,
   "id": "46456dd4",
   "metadata": {
    "ExecuteTime": {
     "end_time": "2021-07-01T09:10:37.995589Z",
     "start_time": "2021-07-01T09:10:37.990189Z"
    }
   },
   "outputs": [],
   "source": [
    "# ----------- 2. create model -------------- #\n",
    "# build a two-layer GCN model\n",
    "class GCN(nn.Module):\n",
    "    def __init__(self, in_feats, h_feats, num_classes, dropout_rate):\n",
    "        super(GCN, self).__init__()\n",
    "        self.conv1 = GraphConv(in_feats, h_feats)\n",
    "        self.dropout = nn.Dropout(dropout_rate)\n",
    "        self.conv2 = GraphConv(h_feats, num_classes)\n",
    "    \n",
    "    def forward(self, g, in_feat):\n",
    "        h = self.conv1(g, in_feat)\n",
    "        h = F.relu(h)\n",
    "        h = self.conv2(g, h)\n",
    "        return h\n",
    "    \n",
    "# Create the model with given dimensions \n",
    "# input layer dimension: 1433, node features\n",
    "# hidden layer dimension: 16\n",
    "# output layer dimension: n_classes\n",
    "model = GCN(in_feats, 16, n_classes, 0.5)"
   ]
  },
  {
   "cell_type": "code",
   "execution_count": null,
   "id": "54454f99",
   "metadata": {},
   "outputs": [],
   "source": []
  },
  {
   "cell_type": "code",
   "execution_count": 22,
   "id": "ed2b75f3",
   "metadata": {
    "ExecuteTime": {
     "end_time": "2021-07-01T09:10:38.002367Z",
     "start_time": "2021-07-01T09:10:37.996948Z"
    }
   },
   "outputs": [],
   "source": [
    "\n",
    "def evaluate(g,model, features, labels, mask):\n",
    "    model.eval()\n",
    "    with torch.no_grad():\n",
    "        logits = model(g,features)\n",
    "        logits = logits[mask]\n",
    "        labels = labels[mask]\n",
    "        _, indices = torch.max(logits, dim=1)\n",
    "        correct = torch.sum(indices == labels)\n",
    "        return correct.item() * 1.0 / len(labels)"
   ]
  },
  {
   "cell_type": "code",
   "execution_count": null,
   "id": "70aa2eaf",
   "metadata": {},
   "outputs": [],
   "source": []
  },
  {
   "cell_type": "code",
   "execution_count": null,
   "id": "a42d3a56",
   "metadata": {},
   "outputs": [],
   "source": []
  },
  {
   "cell_type": "code",
   "execution_count": 23,
   "id": "fa4456bc",
   "metadata": {
    "ExecuteTime": {
     "end_time": "2021-07-01T09:10:38.007721Z",
     "start_time": "2021-07-01T09:10:38.003799Z"
    }
   },
   "outputs": [],
   "source": [
    "def evaluate_2(g, model, features, labels, mask):\n",
    "    model.eval()\n",
    "    with torch.no_grad():\n",
    "        predictions = model(g, features)\n",
    "        predictions = predictions[mask]\n",
    "        labels = labels[mask]\n",
    "        _, indices_predictions = torch.max(predictions, dim=1)\n",
    "        precision = sklearn.metrics.precision_score(labels , indices_predictions, average='micro')\n",
    "        recall = sklearn.metrics.recall_score(labels , indices_predictions, average='micro')\n",
    "        f1_score = 2 * (precision * recall) / (precision + recall)\n",
    "        return f1_score, precision, recall"
   ]
  },
  {
   "cell_type": "code",
   "execution_count": null,
   "id": "daf87d57",
   "metadata": {},
   "outputs": [],
   "source": []
  },
  {
   "cell_type": "code",
   "execution_count": 24,
   "id": "3adbfe73",
   "metadata": {
    "ExecuteTime": {
     "end_time": "2021-07-01T09:10:38.016716Z",
     "start_time": "2021-07-01T09:10:38.009088Z"
    }
   },
   "outputs": [],
   "source": [
    "graph = dgl.add_self_loop(graph)"
   ]
  },
  {
   "cell_type": "code",
   "execution_count": null,
   "id": "f662731a",
   "metadata": {},
   "outputs": [],
   "source": []
  },
  {
   "cell_type": "code",
   "execution_count": null,
   "id": "40b1b0e3",
   "metadata": {},
   "outputs": [],
   "source": []
  },
  {
   "cell_type": "code",
   "execution_count": 25,
   "id": "e198dc4c",
   "metadata": {
    "ExecuteTime": {
     "end_time": "2021-07-01T09:10:52.436760Z",
     "start_time": "2021-07-01T09:10:38.018168Z"
    }
   },
   "outputs": [
    {
     "name": "stdout",
     "output_type": "stream",
     "text": [
      "Epoch 00000 | Loss 0.6943 | Accuracy 0.4157 | \n",
      "Epoch 00000 | Loss 0.6943 | f1score 0.4157 | precision 0.4157 | recall 0.4157\n",
      "Epoch 00020 | Loss 0.6071 | Accuracy 0.9036 | \n",
      "Epoch 00020 | Loss 0.6071 | f1score 0.9036 | precision 0.9036 | recall 0.9036\n",
      "Epoch 00040 | Loss 0.5354 | Accuracy 0.9901 | \n",
      "Epoch 00040 | Loss 0.5354 | f1score 0.9901 | precision 0.9901 | recall 0.9901\n",
      "\n"
     ]
    }
   ],
   "source": [
    "# ----------- 3. set up loss and optimizer -------------- #\n",
    "# in this case, loss will in training loop\n",
    "optimizer = torch.optim.Adam(itertools.chain(model.parameters()), lr=1e-4)\n",
    "loss_fcn = torch.nn.CrossEntropyLoss()\n",
    "# ----------- 4. training -------------------------------- #\n",
    "n_epochs=50\n",
    "for epoch in range(n_epochs):\n",
    "        model.train()\n",
    "\n",
    "        # forward\n",
    "        \n",
    "        logits = model(graph , node_features)\n",
    "        \n",
    "        loss = loss_fcn(logits[train_mask], node_labels[train_mask])\n",
    "\n",
    "        optimizer.zero_grad()\n",
    "        loss.backward()\n",
    "        optimizer.step()\n",
    "\n",
    "\n",
    "        acc = evaluate(graph ,model, node_features, node_labels, valid_mask)\n",
    "        f1_score, precision, recall = evaluate_2(graph , model, node_features, node_labels, valid_mask)\n",
    "        \n",
    "        \n",
    "        if epoch%20==0:\n",
    "            print(\"Epoch {:05d} | Loss {:.4f} | Accuracy {:.4f} | \"\n",
    "                  .format(epoch, loss.item(), acc))\n",
    "            print(\"Epoch {:05d} | Loss {:.4f} | f1score {:.4f} | precision {:.4f} | recall {:.4f}\"\n",
    "                  .format(epoch, loss.item(), f1_score, precision, recall))\n",
    "print()"
   ]
  },
  {
   "cell_type": "code",
   "execution_count": null,
   "id": "3884aab9",
   "metadata": {},
   "outputs": [],
   "source": []
  },
  {
   "cell_type": "code",
   "execution_count": 26,
   "id": "b4530dd8",
   "metadata": {
    "ExecuteTime": {
     "end_time": "2021-07-01T09:10:52.630620Z",
     "start_time": "2021-07-01T09:10:52.440635Z"
    }
   },
   "outputs": [
    {
     "name": "stdout",
     "output_type": "stream",
     "text": [
      "Test accuracy 99.82%, Test f1_score 99.82%, Test precision 99.82%, Test recall 99.82%\n"
     ]
    }
   ],
   "source": [
    "# ----------- 5. check results ------------------------ #\n",
    "acc = evaluate(graph,model, node_features, node_labels, test_mask)\n",
    "f1_score, precision, recall = evaluate_2(graph , model, node_features, node_labels, test_mask)\n",
    "print(\"Test accuracy {:.2%}, Test f1_score {:.2%}, Test precision {:.2%}, Test recall {:.2%}\".format(acc, f1_score, precision, recall))"
   ]
  },
  {
   "cell_type": "code",
   "execution_count": null,
   "id": "9df62c83",
   "metadata": {},
   "outputs": [],
   "source": []
  },
  {
   "cell_type": "code",
   "execution_count": null,
   "id": "1ac64da7",
   "metadata": {},
   "outputs": [],
   "source": []
  },
  {
   "cell_type": "code",
   "execution_count": null,
   "id": "63a69c3a",
   "metadata": {},
   "outputs": [],
   "source": []
  },
  {
   "cell_type": "code",
   "execution_count": null,
   "id": "0f5e3233",
   "metadata": {},
   "outputs": [],
   "source": []
  },
  {
   "cell_type": "code",
   "execution_count": null,
   "id": "2d48d723",
   "metadata": {},
   "outputs": [],
   "source": []
  },
  {
   "cell_type": "code",
   "execution_count": null,
   "id": "2b7c7cd4",
   "metadata": {},
   "outputs": [],
   "source": []
  },
  {
   "cell_type": "code",
   "execution_count": null,
   "id": "932bd491",
   "metadata": {},
   "outputs": [],
   "source": []
  },
  {
   "cell_type": "code",
   "execution_count": null,
   "id": "e9f8ae10",
   "metadata": {},
   "outputs": [],
   "source": []
  },
  {
   "cell_type": "code",
   "execution_count": null,
   "id": "fdd11b6a",
   "metadata": {},
   "outputs": [],
   "source": []
  },
  {
   "cell_type": "code",
   "execution_count": null,
   "id": "188e0b0e",
   "metadata": {},
   "outputs": [],
   "source": []
  },
  {
   "cell_type": "code",
   "execution_count": null,
   "id": "739ebd6b",
   "metadata": {},
   "outputs": [],
   "source": []
  },
  {
   "cell_type": "code",
   "execution_count": null,
   "id": "d07ed357",
   "metadata": {},
   "outputs": [],
   "source": []
  },
  {
   "cell_type": "code",
   "execution_count": null,
   "id": "57a89151",
   "metadata": {},
   "outputs": [],
   "source": []
  },
  {
   "cell_type": "code",
   "execution_count": null,
   "id": "5ef2118c",
   "metadata": {},
   "outputs": [],
   "source": []
  },
  {
   "cell_type": "code",
   "execution_count": null,
   "id": "03429c65",
   "metadata": {},
   "outputs": [],
   "source": []
  },
  {
   "cell_type": "code",
   "execution_count": null,
   "id": "a9a9c367",
   "metadata": {},
   "outputs": [],
   "source": []
  }
 ],
 "metadata": {
  "kernelspec": {
   "display_name": "graph",
   "language": "python",
   "name": "graph"
  },
  "language_info": {
   "codemirror_mode": {
    "name": "ipython",
    "version": 3
   },
   "file_extension": ".py",
   "mimetype": "text/x-python",
   "name": "python",
   "nbconvert_exporter": "python",
   "pygments_lexer": "ipython3",
   "version": "3.8.10"
  },
  "latex_envs": {
   "LaTeX_envs_menu_present": true,
   "autoclose": false,
   "autocomplete": true,
   "bibliofile": "biblio.bib",
   "cite_by": "apalike",
   "current_citInitial": 1,
   "eqLabelWithNumbers": true,
   "eqNumInitial": 1,
   "hotkeys": {
    "equation": "Ctrl-E",
    "itemize": "Ctrl-I"
   },
   "labels_anchors": false,
   "latex_user_defs": false,
   "report_style_numbering": false,
   "user_envs_cfg": false
  },
  "toc": {
   "base_numbering": 1,
   "nav_menu": {},
   "number_sections": true,
   "sideBar": true,
   "skip_h1_title": false,
   "title_cell": "Table of Contents",
   "title_sidebar": "Contents",
   "toc_cell": false,
   "toc_position": {},
   "toc_section_display": true,
   "toc_window_display": false
  },
  "varInspector": {
   "cols": {
    "lenName": 16,
    "lenType": 16,
    "lenVar": 40
   },
   "kernels_config": {
    "python": {
     "delete_cmd_postfix": "",
     "delete_cmd_prefix": "del ",
     "library": "var_list.py",
     "varRefreshCmd": "print(var_dic_list())"
    },
    "r": {
     "delete_cmd_postfix": ") ",
     "delete_cmd_prefix": "rm(",
     "library": "var_list.r",
     "varRefreshCmd": "cat(var_dic_list()) "
    }
   },
   "types_to_exclude": [
    "module",
    "function",
    "builtin_function_or_method",
    "instance",
    "_Feature"
   ],
   "window_display": false
  }
 },
 "nbformat": 4,
 "nbformat_minor": 5
}
